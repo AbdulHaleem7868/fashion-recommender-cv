{
 "cells": [
  {
   "cell_type": "code",
   "execution_count": null,
   "metadata": {},
   "outputs": [],
   "source": [
    "            st.image(cropped_objs[0])\n",
    "\n",
    "            embedding = extract_img(cropped_objs[0], transformations)\n",
    "            selected_neighbor_paths = similar_img_search(embedding, loaded_idx)\n",
    "            print(cropped_objs[0])\n",
    "            selected_img_path = Image.fromarray(cropped_objs[0])\n",
    "            rec_fig = visualize_nearest_neighbors(selected_img_path, selected_neighbor_paths)\n",
    "            st.pyplot(rec_fig, use_container_width=True)"
   ]
  },
  {
   "cell_type": "code",
   "execution_count": null,
   "metadata": {},
   "outputs": [],
   "source": [
    "                    #for i, obj in enumerate(cropped_objs):\n",
    "                    #    sel_paths{i} = [] * i\n",
    "                    #    embedding = extract_img(obj, transformations)\n",
    "                    #    sel_paths{i} = similar_img_search(embedding, loaded_idx)\n",
    "                    #    rec_fig = visualize_outfits(sel_paths{i})\n",
    "                    #    st.pyplot(rec_fig, use_container_width=True)"
   ]
  },
  {
   "cell_type": "code",
   "execution_count": null,
   "metadata": {},
   "outputs": [],
   "source": [
    "            #        for obj in cropped_objs:\n",
    "            #            embedding = extract_img(cropped_objs[obj], transformations)\n",
    "            #            selected_neighbor_paths = similar_img_search(embedding, loaded_idx)\n",
    "            #            selected_img_path = Image.fromarray(obj)\n",
    "            #            rec_fig = visualize_nearest_neighbors(selected_img_path, selected_neighbor_paths)\n",
    "            #        st.pyplot(rec_fig, use_container_width=True)"
   ]
  },
  {
   "cell_type": "code",
   "execution_count": null,
   "metadata": {},
   "outputs": [],
   "source": [
    "                    num_neigbors = 5\n",
    "                    boards = []\n",
    "                    for j in range(num_neigbors):\n",
    "                        board_paths = []\n",
    "                        for i, obj in enumerate(cropped_objs):\n",
    "                            embedding = extract_img(obj, transformations)\n",
    "                            selected_neighbor_paths = similar_img_search(embedding, loaded_idx)\n",
    "                            board_paths.append(selected_neighbor_paths[j])\n",
    "\n",
    "                        rec_fig = visualize_outfits(board_paths)\n",
    "                        st.pyplot(rec_fig, use_container_width=True)\n",
    "                        boards.append(board_paths)"
   ]
  },
  {
   "cell_type": "code",
   "execution_count": null,
   "metadata": {},
   "outputs": [],
   "source": [
    "            fig, axes = plt.subplots(1, len(cropped_objs), figsize=(15, 3))\n",
    "            for i, obj in enumerate(cropped_objs):\n",
    "                axes[i].imshow(obj)\n",
    "                axes[i].axis('off')           \n",
    "            st.pyplot(fig)"
   ]
  },
  {
   "cell_type": "code",
   "execution_count": null,
   "metadata": {},
   "outputs": [],
   "source": [
    "def visualize_nearest_neighbors(selected_img_path, nearest_neighbor_paths):\n",
    "    # Create a figure with two columns\n",
    "    fig, axs = plt.subplots(5, 2, figsize=(10, 8))\n",
    "\n",
    "    plt.suptitle(\"Recommended Items based on your selection\", fontsize=16, y=1.03)\n",
    "\n",
    "    # Display the item selected in the first column (column 0)\n",
    "    selected_img = selected_img_path\n",
    "    axs[0, 0].imshow(selected_img)\n",
    "    axs[0, 0].set_title(\"Item selected\")\n",
    "    axs[0, 0].axis('off')\n",
    "\n",
    "    # Limit the number of displayed neighbors to a maximum of 10\n",
    "    num_neighbors = min(len(nearest_neighbor_paths), 10)\n",
    "\n",
    "    # Loop through the recommended items (nearest neighbors) and display them in the second column (column 1)\n",
    "    for i, ax in enumerate(axs[1:].flatten(), 1):\n",
    "        if i <= num_neighbors:\n",
    "            neighbor_path = nearest_neighbor_paths[i - 1]\n",
    "            img = mpimg.imread(neighbor_path)\n",
    "            ax.imshow(img)\n",
    "            ax.set_title(f\"Recommended Item {i}\")\n",
    "            ax.axis('off')\n",
    "\n",
    "    # Hide the axis line in the second column of the first row\n",
    "    for i in range(5):\n",
    "        axs[i, 0].axis('off')\n",
    "        axs[i, 1].axis('off')\n",
    "\n",
    "    # Show the images\n",
    "    return fig"
   ]
  }
 ],
 "metadata": {
  "language_info": {
   "name": "python"
  },
  "orig_nbformat": 4
 },
 "nbformat": 4,
 "nbformat_minor": 2
}
